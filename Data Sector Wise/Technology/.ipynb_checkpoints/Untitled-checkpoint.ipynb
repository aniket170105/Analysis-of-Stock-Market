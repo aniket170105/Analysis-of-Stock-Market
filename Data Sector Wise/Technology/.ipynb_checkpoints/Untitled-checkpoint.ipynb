{
 "cells": [
  {
   "cell_type": "code",
   "execution_count": 1,
   "id": "a483796a-f6cf-4fcf-967a-5713ab8b9963",
   "metadata": {},
   "outputs": [],
   "source": [
    "import pandas as pd\n",
    "import requests\n",
    "import numpy as np"
   ]
  },
  {
   "cell_type": "code",
   "execution_count": 24,
   "id": "baadcd0c-7689-43e9-893c-0f41c381b3ab",
   "metadata": {},
   "outputs": [],
   "source": [
    "import requests\n",
    "\n",
    "def getCompanyData(list_company_names, key):\n",
    "    for x in list_company_names:\n",
    "        for i in range(1,2):\n",
    "            url = f'https://www.alphavantage.co/query?function=TIME_SERIES_INTRADAY&symbol={x}&interval=5min&extended_hours=false&month=2024-0{i}&outputsize=full&apikey={key}'\n",
    "            r = requests.get(url)\n",
    "            data = r.json()\n",
    "            data = pd.DataFrame(data['Time Series (5min)']).T\n",
    "            print(data)\n",
    "            data.to_csv(f'{x}/Timeseries2024-{i}.csv',index = False)"
   ]
  },
  {
   "cell_type": "code",
   "execution_count": 25,
   "id": "ccbb9d63-e2f3-4712-bfc6-5a6b8fcae7a8",
   "metadata": {},
   "outputs": [
    {
     "name": "stdout",
     "output_type": "stream",
     "text": [
      "                      1. open   2. high    3. low  4. close 5. volume\n",
      "2024-01-31 15:55:00  617.6650  619.3700  617.4800  617.4800    212740\n",
      "2024-01-31 15:50:00  616.8900  617.8900  616.0000  617.8900    107083\n",
      "2024-01-31 15:45:00  617.8000  617.9600  617.1500  617.3800     24697\n",
      "2024-01-31 15:40:00  618.2000  618.7500  617.5700  617.6000     23837\n",
      "2024-01-31 15:35:00  618.0200  618.5960  617.0200  618.5860     24357\n",
      "...                       ...       ...       ...       ...       ...\n",
      "2024-01-02 09:50:00  581.4250  582.8500  581.0500  582.3800     42479\n",
      "2024-01-02 09:45:00  583.3700  583.5530  580.7200  581.4100     55966\n",
      "2024-01-02 09:40:00  586.0200  586.2320  582.3700  583.4700     49109\n",
      "2024-01-02 09:35:00  587.2000  588.8400  585.0000  586.4850     48000\n",
      "2024-01-02 09:30:00  589.5100  590.4400  587.6200  587.6200    156100\n",
      "\n",
      "[1638 rows x 5 columns]\n"
     ]
    }
   ],
   "source": [
    "getCompanyData(['ADBE'],\"03WXU5T89YZYW5GJ\")"
   ]
  },
  {
   "cell_type": "code",
   "execution_count": null,
   "id": "bdecc575-57da-41f8-b8e4-5443cd83b595",
   "metadata": {},
   "outputs": [],
   "source": []
  }
 ],
 "metadata": {
  "kernelspec": {
   "display_name": "Python 3 (ipykernel)",
   "language": "python",
   "name": "python3"
  },
  "language_info": {
   "codemirror_mode": {
    "name": "ipython",
    "version": 3
   },
   "file_extension": ".py",
   "mimetype": "text/x-python",
   "name": "python",
   "nbconvert_exporter": "python",
   "pygments_lexer": "ipython3",
   "version": "3.11.4"
  }
 },
 "nbformat": 4,
 "nbformat_minor": 5
}
