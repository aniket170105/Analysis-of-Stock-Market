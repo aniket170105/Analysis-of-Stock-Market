{
 "cells": [
  {
   "cell_type": "code",
   "execution_count": 18,
   "id": "496f3067-447f-418d-abd6-f16dc1211f94",
   "metadata": {},
   "outputs": [],
   "source": [
    "import pandas as p"
   ]
  },
  {
   "cell_type": "code",
   "execution_count": null,
   "id": "4bb56924-09b7-4348-9692-769553d54e84",
   "metadata": {},
   "outputs": [],
   "source": []
  },
  {
   "cell_type": "code",
   "execution_count": 19,
   "id": "82face04-0d7a-40cb-8fac-7f8a4ee457fc",
   "metadata": {},
   "outputs": [],
   "source": [
    "def combineAllDataSet(list_of_company):\n",
    "    for x in list_of_company:\n",
    "        model_list = []\n",
    "        for i in (5,4,3,2,1):\n",
    "            model_list.append(pd.read_csv(f'{x}/{x}Timeseries2024-{i}.csv'))\n",
    "        combined_df = pd.concat(model_list, ignore_index=True)\n",
    "        reversed_df = combined_df[::-1]\n",
    "        df = reversed_df.reset_index(drop=True).rename(columns={'1. open': 'Open', '2. high': 'High', '3. low': 'Low', '4. close': 'Close', '5. volume': 'Volume'})\n",
    "        df.to_csv(f'{x}/{x}TimeSeries-Final.csv')"
   ]
  },
  {
   "cell_type": "code",
   "execution_count": 20,
   "id": "28cf58b9-9aac-4e03-a301-ddc273f9926a",
   "metadata": {},
   "outputs": [],
   "source": [
    "combineAllDataSet(['ACN','ADBE','CRM','GOOGL','INTU','META','MSFT','NFLX','ORCL','SAP'])"
   ]
  },
  {
   "cell_type": "code",
   "execution_count": null,
   "id": "3cf4814d-39bc-4766-895d-31a01c123747",
   "metadata": {},
   "outputs": [],
   "source": []
  },
  {
   "cell_type": "code",
   "execution_count": null,
   "id": "2c57f5d2-847f-4569-8f1c-a4386f3bcde2",
   "metadata": {},
   "outputs": [],
   "source": []
  },
  {
   "cell_type": "code",
   "execution_count": null,
   "id": "2b2a635c-3f8d-4151-a431-9af47e878cfd",
   "metadata": {},
   "outputs": [],
   "source": []
  },
  {
   "cell_type": "code",
   "execution_count": null,
   "id": "41eeae4d-bdc2-4a8c-8a52-4b9f511a9e38",
   "metadata": {},
   "outputs": [],
   "source": []
  }
 ],
 "metadata": {
  "kernelspec": {
   "display_name": "Python 3 (ipykernel)",
   "language": "python",
   "name": "python3"
  },
  "language_info": {
   "codemirror_mode": {
    "name": "ipython",
    "version": 3
   },
   "file_extension": ".py",
   "mimetype": "text/x-python",
   "name": "python",
   "nbconvert_exporter": "python",
   "pygments_lexer": "ipython3",
   "version": "3.11.4"
  }
 },
 "nbformat": 4,
 "nbformat_minor": 5
}
