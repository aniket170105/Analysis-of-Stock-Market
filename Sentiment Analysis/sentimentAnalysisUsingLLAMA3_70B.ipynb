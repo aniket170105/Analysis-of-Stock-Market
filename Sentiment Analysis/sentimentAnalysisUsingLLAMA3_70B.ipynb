{
  "nbformat": 4,
  "nbformat_minor": 0,
  "metadata": {
    "colab": {
      "provenance": [],
      "collapsed_sections": [
        "A4S8HR2SDLAa",
        "41lkdQ3HCjPh",
        "doDwC6OCDvX0",
        "OdqmZEwZF6f4"
      ]
    },
    "kernelspec": {
      "name": "python3",
      "display_name": "Python 3"
    },
    "language_info": {
      "name": "python"
    }
  },
  "cells": [
    {
      "cell_type": "code",
      "execution_count": 1,
      "metadata": {
        "id": "UE1Utz5rBw3A"
      },
      "outputs": [],
      "source": [
        "import requests\n",
        "from bs4 import BeautifulSoup\n",
        "def search_for_stock_news_urls(ticker):\n",
        "    search_url = \"https://www.google.com/search?q=yahoo+finance+{}&tbm=nws&prmd=nivsbmtz&source=lnt&tbs=qdr:d&sa=X\".format(ticker)\n",
        "    r = requests.get(search_url)                        ###################Think how can we add second page result\n",
        "    soup = BeautifulSoup(r.text, 'html.parser')\n",
        "    atags = soup.find_all('a')\n",
        "    hrefs = [link['href'] for link in atags]\n",
        "    return hrefs"
      ]
    },
    {
      "cell_type": "code",
      "source": [
        "raw_urls = search_for_stock_news_urls(\"TSLA\")\n",
        "raw_urls"
      ],
      "metadata": {
        "colab": {
          "base_uri": "https://localhost:8080/"
        },
        "id": "JHzE1B67B-lk",
        "outputId": "dfc8f897-2c65-4840-cd02-2c99e8c80bb4"
      },
      "execution_count": 5,
      "outputs": [
        {
          "output_type": "execute_result",
          "data": {
            "text/plain": [
              "['/?sa=X&ved=0ahUKEwiQ2IrtkOCGAxV5SDABHRHfCuQQOwgC',\n",
              " '/search?q=yahoo+finance+TSLA&sa=X&sca_esv=66c5d7ec1899268c&ie=UTF-8&tbs=qdr:d&tbm=nws&gbv=1&sei=jdtuZtDdOfmQwbkPkb6roA4',\n",
              " '/search?q=yahoo+finance+TSLA&sca_esv=66c5d7ec1899268c&ie=UTF-8&source=lnms&sa=X&ved=0ahUKEwiQ2IrtkOCGAxV5SDABHRHfCuQQ_AUIBSgA',\n",
              " '/search?q=yahoo+finance+TSLA&sca_esv=66c5d7ec1899268c&ie=UTF-8&tbm=isch&source=lnms&sa=X&ved=0ahUKEwiQ2IrtkOCGAxV5SDABHRHfCuQQ_AUIBygC',\n",
              " '/search?q=yahoo+finance+TSLA&sca_esv=66c5d7ec1899268c&ie=UTF-8&tbm=vid&source=lnms&sa=X&ved=0ahUKEwiQ2IrtkOCGAxV5SDABHRHfCuQQ_AUICCgD',\n",
              " '/url?q=https://maps.google.com/maps%3Fq%3Dyahoo%2Bfinance%2BTSLA%26prmd%3Dnivsbmtz%26um%3D1%26ie%3DUTF-8%26ved%3D1t:200713%26ictx%3D111&opi=89978449&sa=U&ved=0ahUKEwiQ2IrtkOCGAxV5SDABHRHfCuQQiaAMCAkoBA&usg=AOvVaw2hT444SLUebHwoCj5oq_W4',\n",
              " '/url?q=/search%3Fq%3Dyahoo%2Bfinance%2BTSLA%26sca_esv%3D66c5d7ec1899268c%26ie%3DUTF-8%26tbm%3Dshop%26source%3Dlnms%26ved%3D1t:200713%26ictx%3D111&opi=89978449&sa=U&ved=0ahUKEwiQ2IrtkOCGAxV5SDABHRHfCuQQiaAMCAooBQ&usg=AOvVaw1Wb6aeNHC88MUjNPthJGx1',\n",
              " '/search?q=yahoo+finance+TSLA&sca_esv=66c5d7ec1899268c&ie=UTF-8&tbm=bks&source=lnms&sa=X&ved=0ahUKEwiQ2IrtkOCGAxV5SDABHRHfCuQQ_AUICygG',\n",
              " '/advanced_search',\n",
              " '/search?q=yahoo+finance+TSLA&sca_esv=66c5d7ec1899268c&ie=UTF-8&tbm=nws&tbas=0&source=lnt&sa=X&ved=0ahUKEwiQ2IrtkOCGAxV5SDABHRHfCuQQpwUIDA',\n",
              " '/search?q=yahoo+finance+TSLA&sca_esv=66c5d7ec1899268c&ie=UTF-8&tbm=nws&source=lnt&tbs=qdr:h&sa=X&ved=0ahUKEwiQ2IrtkOCGAxV5SDABHRHfCuQQpwUIDQ',\n",
              " '/search?q=yahoo+finance+TSLA&sca_esv=66c5d7ec1899268c&ie=UTF-8&tbm=nws&source=lnt&tbs=qdr:w&sa=X&ved=0ahUKEwiQ2IrtkOCGAxV5SDABHRHfCuQQpwUIDw',\n",
              " '/search?q=yahoo+finance+TSLA&sca_esv=66c5d7ec1899268c&ie=UTF-8&tbm=nws&source=lnt&tbs=qdr:m&sa=X&ved=0ahUKEwiQ2IrtkOCGAxV5SDABHRHfCuQQpwUIEA',\n",
              " '/search?q=yahoo+finance+TSLA&sca_esv=66c5d7ec1899268c&ie=UTF-8&tbm=nws&source=lnt&tbs=qdr:y&sa=X&ved=0ahUKEwiQ2IrtkOCGAxV5SDABHRHfCuQQpwUIEQ',\n",
              " '/search?q=yahoo+finance+TSLA&sca_esv=66c5d7ec1899268c&ie=UTF-8&tbm=nws&source=lnt&tbs=ar:1&sa=X&ved=0ahUKEwiQ2IrtkOCGAxV5SDABHRHfCuQQpwUIEg',\n",
              " '/search?q=yahoo+finance+TSLA&sca_esv=66c5d7ec1899268c&ie=UTF-8&tbs=qdr:d,sbd:1&tbm=nws&source=lnt&sa=X&ved=0ahUKEwiQ2IrtkOCGAxV5SDABHRHfCuQQpwUIFA',\n",
              " 'https://www.google.com/search?q=yahoo+finance+TSLA&tbm=nws&prmd=nivsbmtz&source=lnt&sa=X',\n",
              " '/url?q=https://finance.yahoo.com/video/tesla-vs-toyota-kevin-paffrath-120012460.html&sa=U&ved=2ahUKEwiQ2IrtkOCGAxV5SDABHRHfCuQQxfQBegQIABAC&usg=AOvVaw1fjq_-uFZ_aAOgSwrwOQdD',\n",
              " '/url?q=https://finance.yahoo.com/news/elon-musks-44-9b-tesla-215337162.html&sa=U&ved=2ahUKEwiQ2IrtkOCGAxV5SDABHRHfCuQQxfQBegQICRAC&usg=AOvVaw0HL8yf7d9UVuRgE9KvsZgE',\n",
              " '/url?q=https://ca.finance.yahoo.com/news/elon-musks-pay-package-approval-214016988.html&sa=U&ved=2ahUKEwiQ2IrtkOCGAxV5SDABHRHfCuQQxfQBegQIARAC&usg=AOvVaw1EB89ujqBotcIvEpHdXvdh',\n",
              " '/url?q=https://finance.yahoo.com/news/chinese-evs-are-driving-into-mexico--and-its-starting-to-worry-the-us-210133299.html&sa=U&ved=2ahUKEwiQ2IrtkOCGAxV5SDABHRHfCuQQxfQBegQIAhAC&usg=AOvVaw10ge5-Zvj4mxtFayK7gutM',\n",
              " '/url?q=https://malaysia.news.yahoo.com/china-tech-etfs-upbeat-momentum-170000754.html&sa=U&ved=2ahUKEwiQ2IrtkOCGAxV5SDABHRHfCuQQxfQBegQIBBAC&usg=AOvVaw24eEmUCYT6jpobbpeL7V41',\n",
              " '/url?q=https://malaysia.news.yahoo.com/magna-mga-hits-52-week-190000810.html&sa=U&ved=2ahUKEwiQ2IrtkOCGAxV5SDABHRHfCuQQxfQBegQIBxAC&usg=AOvVaw3sQpq6Apv45eRCVkjfKdSF',\n",
              " '/url?q=https://au.finance.yahoo.com/news/cybertruck-buyers-say-theyve-been-told-deliveries-are-paused-due-windshield-wiper-problems-173804018.html&sa=U&ved=2ahUKEwiQ2IrtkOCGAxV5SDABHRHfCuQQxfQBegQICBAC&usg=AOvVaw0uU8VU-uFWF9j-OI9LNzjM',\n",
              " '/url?q=https://uk.movies.yahoo.com/finance/news/next-paramount-skydance-merger-talks-001803498.html&sa=U&ved=2ahUKEwiQ2IrtkOCGAxV5SDABHRHfCuQQxfQBegQIAxAC&usg=AOvVaw18GOX8UemlKC5fnwLemtoV',\n",
              " '/url?q=https://malaysia.news.yahoo.com/oracle-shutting-down-advertising-business-120725759.html%3F.tsrc%3Dfp_deeplink&sa=U&ved=2ahUKEwiQ2IrtkOCGAxV5SDABHRHfCuQQxfQBegQIBRAC&usg=AOvVaw0SzSDVMvU5lWVlKUwJDZvh',\n",
              " '/url?q=https://au.news.yahoo.com/opinion-standard-view-london-stock-121348509.html&sa=U&ved=2ahUKEwiQ2IrtkOCGAxV5SDABHRHfCuQQxfQBegQIBhAC&usg=AOvVaw3fnK_UvLBjlyzZbAna4SzC',\n",
              " '/search?q=yahoo+finance+TSLA&sca_esv=66c5d7ec1899268c&ie=UTF-8&tbs=qdr:d&tbm=nws&ei=jdtuZtDdOfmQwbkPkb6roA4&start=10&sa=N',\n",
              " '/url?q=https://support.google.com/websearch%3Fp%3Dws_settings_location%26hl%3Den&opi=89978449&sa=U&ved=0ahUKEwiQ2IrtkOCGAxV5SDABHRHfCuQQty4IUw&usg=AOvVaw1lkjbhqIKecuC59G3bcJwc',\n",
              " '/url?q=https://accounts.google.com/ServiceLogin%3Fcontinue%3Dhttps://www.google.com/search%253Fq%253Dyahoo%252Bfinance%252BTSLA%2526tbm%253Dnws%2526prmd%253Dnivsbmtz%2526source%253Dlnt%2526tbs%253Dqdr:d%2526sa%253DX%26hl%3Den&opi=89978449&sa=U&ved=0ahUKEwiQ2IrtkOCGAxV5SDABHRHfCuQQxs8CCFQ&usg=AOvVaw2v_igTPfKJkPcUbXRjDAct',\n",
              " 'https://www.google.com/preferences?hl=en&fg=1&sa=X&ved=0ahUKEwiQ2IrtkOCGAxV5SDABHRHfCuQQ5fUCCFU',\n",
              " 'https://policies.google.com/privacy?hl=en&fg=1',\n",
              " 'https://policies.google.com/terms?hl=en&fg=1',\n",
              " '/setprefs?hl=en&prev=https://www.google.com/search?q%3Dyahoo%2Bfinance%2BTSLA%26tbm%3Dnws%26prmd%3Dnivsbmtz%26source%3Dlnt%26tbs%3Dqdr:d%26sa%3DX%26pccc%3D1&sig=0_Ra9MxIZvn3naWLn_X7XUAQgUY-0%3D&cs=2&sa=X&ved=0ahUKEwiQ2IrtkOCGAxV5SDABHRHfCuQQjcAJCFY']"
            ]
          },
          "metadata": {},
          "execution_count": 5
        }
      ]
    },
    {
      "cell_type": "code",
      "source": [
        "import re\n",
        "exclude_list = ['maps', 'policies', 'preferences', 'accounts', 'support','google']\n",
        "def strip_unwanted_urls(urls, exclude_list):\n",
        "    val = []\n",
        "    for url in urls:\n",
        "        if 'https://' in url and not any(exclude_word in url for exclude_word in exclude_list):\n",
        "            res = re.findall(r'(https?://\\S+)', url)[0].split('&')[0]\n",
        "            val.append(res)\n",
        "    return list(set(val))"
      ],
      "metadata": {
        "id": "9ainwm_aCBte"
      },
      "execution_count": 6,
      "outputs": []
    },
    {
      "cell_type": "code",
      "source": [
        "cleaned_urls = strip_unwanted_urls(raw_urls,exclude_list)\n",
        "cleaned_urls"
      ],
      "metadata": {
        "colab": {
          "base_uri": "https://localhost:8080/"
        },
        "id": "mwqEo_NjCKKx",
        "outputId": "2de23961-5d61-43a4-d403-c955f3ae007b"
      },
      "execution_count": 7,
      "outputs": [
        {
          "output_type": "execute_result",
          "data": {
            "text/plain": [
              "['https://finance.yahoo.com/news/chinese-evs-are-driving-into-mexico--and-its-starting-to-worry-the-us-210133299.html',\n",
              " 'https://malaysia.news.yahoo.com/china-tech-etfs-upbeat-momentum-170000754.html',\n",
              " 'https://finance.yahoo.com/video/tesla-vs-toyota-kevin-paffrath-120012460.html',\n",
              " 'https://au.news.yahoo.com/opinion-standard-view-london-stock-121348509.html',\n",
              " 'https://au.finance.yahoo.com/news/cybertruck-buyers-say-theyve-been-told-deliveries-are-paused-due-windshield-wiper-problems-173804018.html',\n",
              " 'https://malaysia.news.yahoo.com/oracle-shutting-down-advertising-business-120725759.html%3F.tsrc%3Dfp_deeplink',\n",
              " 'https://finance.yahoo.com/news/elon-musks-44-9b-tesla-215337162.html',\n",
              " 'https://ca.finance.yahoo.com/news/elon-musks-pay-package-approval-214016988.html',\n",
              " 'https://uk.movies.yahoo.com/finance/news/next-paramount-skydance-merger-talks-001803498.html',\n",
              " 'https://malaysia.news.yahoo.com/magna-mga-hits-52-week-190000810.html']"
            ]
          },
          "metadata": {},
          "execution_count": 7
        }
      ]
    },
    {
      "cell_type": "markdown",
      "source": [
        "# Retriving Article From a website"
      ],
      "metadata": {
        "id": "A4S8HR2SDLAa"
      }
    },
    {
      "cell_type": "code",
      "source": [
        "# !pip install newspaper3k ####Used to efficiently Retrieve Article from a website\n",
        "from newspaper import Article"
      ],
      "metadata": {
        "id": "TjPRfYhvDQA2"
      },
      "execution_count": 12,
      "outputs": []
    },
    {
      "cell_type": "code",
      "source": [
        "url = 'https://indianexpress.com/article/business/commodities/reliance-buy-russian-oil-from-rosneft-in-rouble-opec-oil-cut-9358229/'\n",
        "article = Article(url)\n",
        "article.download()\n",
        "article.parse()"
      ],
      "metadata": {
        "id": "ZY8Hfn-6DcVf"
      },
      "execution_count": 13,
      "outputs": []
    },
    {
      "cell_type": "code",
      "source": [
        "article.publish_date"
      ],
      "metadata": {
        "colab": {
          "base_uri": "https://localhost:8080/"
        },
        "id": "vSJZjz37DcSE",
        "outputId": "a81756a4-5ca4-4d36-8350-cecfeb9cfaeb"
      },
      "execution_count": 14,
      "outputs": [
        {
          "output_type": "execute_result",
          "data": {
            "text/plain": [
              "datetime.datetime(2024, 5, 29, 8, 6, 34, tzinfo=tzoffset(None, 19800))"
            ]
          },
          "metadata": {},
          "execution_count": 14
        }
      ]
    },
    {
      "cell_type": "code",
      "source": [
        "article.text"
      ],
      "metadata": {
        "colab": {
          "base_uri": "https://localhost:8080/",
          "height": 296
        },
        "id": "F2F-WVhDDcP1",
        "outputId": "023403d7-8993-48a5-bfc1-78e80cc437a8"
      },
      "execution_count": 15,
      "outputs": [
        {
          "output_type": "execute_result",
          "data": {
            "text/plain": [
              "'India’s Reliance Industries, operator of the world’s biggest refining complex, has signed a one-year deal with Russia’s Rosneft to buy at least 3 million barrels of oil a month in roubles, four sources aware of the matter told Reuters.\\n\\nThe shift to rouble payments follows Russian President Vladimir Putin’s push for Moscow and its trading partners to find alternatives to the Western financial system to facilitate trade despite U.S. and European sanctions.\\n\\nA term deal with Rosneft also helps privately run Reliance to secure oil at discounted rates at a time when the OPEC+ group of oil producers is expected to extend voluntary supply cuts beyond June.\\n\\nAdvertisement\\n\\nThe OPEC+ group comprising the Organisation of the Petroleum Exporting Countries (OPEC) and allies including Russia is due to discuss the output cuts in an online meeting on June 2.\\n\\nIndia, the world’s third-biggest oil importer and consumer, has become the biggest buyer of seaborne Russian crude since the West halted purchases and imposed sanctions against Moscow in the aftermath of Russia’s 2022 invasion of Ukraine. India has also paid for Russian crude in rupees, dirhams and Chinese yuan.\\n\\nState-owned Indian refiners, meanwhile, have been tapping spot markets for Russian oil because they were unable to finalise term supplies for this year, Reuters has reported previously.\\n\\n“India is a strategic partner for Rosneft oil company,” the Russian company said in an emailed response to questions from Reuters, adding that it does not comment on confidential agreements with partners.\\n\\nAdvertisement\\n\\n“Cooperation with Indian companies includes projects in the field of production, oil refining and trading of oil and petroleum products.”\\n\\nRosneft also said that commercial approaches to determining the value of sold crude are the same for all companies, regardless of whether they are private or state-controlled.\\n\\nReliance did not respond to a request for comment.\\n\\nUnder the terms of the deal, which took effect at the beginning of the Indian financial year from April 1, Reliance will buy two cargoes of about one million barrels of Urals crude with an option to buy four more each month at a discount of $3 a barrel to the Middle East Dubai benchmark, the sources said.\\n\\nThe refiner will also purchase one to two cargoes a month of low-sulphur crude oil, mainly ESPO Blend exported from Russia’s Pacific port of Kozmino, at a premium of $1 a barrel to Dubai quotes, the sources added.\\n\\nAdvertisement\\n\\nReliance has agreed to make payment for the oil using Russia’s rouble through India’s HDFC Bank and Russia’s Gazprombank, the sources said. Further details on the payment mechanism were not immediately available.\\n\\nHDFC Bank and Gazprombank did not respond to requests for comment.'"
            ],
            "application/vnd.google.colaboratory.intrinsic+json": {
              "type": "string"
            }
          },
          "metadata": {},
          "execution_count": 15
        }
      ]
    },
    {
      "cell_type": "markdown",
      "source": [
        "# Using Text Blob to calculate sentiment Score"
      ],
      "metadata": {
        "id": "41lkdQ3HCjPh"
      }
    },
    {
      "cell_type": "code",
      "source": [
        "# !pip install newspaper3k     ####Used to efficiently Retrieve Article from a website\n",
        "from newspaper import Article\n",
        "from textblob import TextBlob\n",
        "import numpy as np\n",
        "def calculate_setiment(urls):\n",
        "    ans = []\n",
        "    for url in urls:\n",
        "        article = Article(url)\n",
        "        article.download()\n",
        "        article.parse()\n",
        "        # print(article.text)\n",
        "        blob = TextBlob(article.text)\n",
        "        ans.append(blob.sentiment.polarity)\n",
        "    return np.array(ans)"
      ],
      "metadata": {
        "id": "w7tBOCsjCKtp"
      },
      "execution_count": 10,
      "outputs": []
    },
    {
      "cell_type": "code",
      "source": [
        "calculate_setiment(cleaned_urls).mean()"
      ],
      "metadata": {
        "colab": {
          "base_uri": "https://localhost:8080/"
        },
        "id": "ttH_mmxaCs_G",
        "outputId": "f9540361-5d6b-41e8-a6e1-aafd0e4b79e1"
      },
      "execution_count": 11,
      "outputs": [
        {
          "output_type": "execute_result",
          "data": {
            "text/plain": [
              "0.06646089714581208"
            ]
          },
          "metadata": {},
          "execution_count": 11
        }
      ]
    },
    {
      "cell_type": "markdown",
      "source": [
        "# Using Groq API to access LLAMA3 - 70B model"
      ],
      "metadata": {
        "id": "doDwC6OCDvX0"
      }
    },
    {
      "cell_type": "code",
      "source": [
        "!pip install groq"
      ],
      "metadata": {
        "colab": {
          "base_uri": "https://localhost:8080/"
        },
        "collapsed": true,
        "id": "I3sb1VQwDua8",
        "outputId": "b8dcb08f-c7dc-424c-e872-234f0fdca7ec"
      },
      "execution_count": 16,
      "outputs": [
        {
          "output_type": "stream",
          "name": "stdout",
          "text": [
            "Collecting groq\n",
            "  Downloading groq-0.9.0-py3-none-any.whl (103 kB)\n",
            "\u001b[?25l     \u001b[90m━━━━━━━━━━━━━━━━━━━━━━━━━━━━━━━━━━━━━━━━\u001b[0m \u001b[32m0.0/103.5 kB\u001b[0m \u001b[31m?\u001b[0m eta \u001b[36m-:--:--\u001b[0m\r\u001b[2K     \u001b[91m━━━━━━━━━━━━━━━━━━━━━━━━━━━━━━━━━━━━━━━\u001b[0m\u001b[91m╸\u001b[0m \u001b[32m102.4/103.5 kB\u001b[0m \u001b[31m3.5 MB/s\u001b[0m eta \u001b[36m0:00:01\u001b[0m\r\u001b[2K     \u001b[90m━━━━━━━━━━━━━━━━━━━━━━━━━━━━━━━━━━━━━━━━\u001b[0m \u001b[32m103.5/103.5 kB\u001b[0m \u001b[31m2.6 MB/s\u001b[0m eta \u001b[36m0:00:00\u001b[0m\n",
            "\u001b[?25hRequirement already satisfied: anyio<5,>=3.5.0 in /usr/local/lib/python3.10/dist-packages (from groq) (3.7.1)\n",
            "Requirement already satisfied: distro<2,>=1.7.0 in /usr/lib/python3/dist-packages (from groq) (1.7.0)\n",
            "Collecting httpx<1,>=0.23.0 (from groq)\n",
            "  Downloading httpx-0.27.0-py3-none-any.whl (75 kB)\n",
            "\u001b[2K     \u001b[90m━━━━━━━━━━━━━━━━━━━━━━━━━━━━━━━━━━━━━━━━\u001b[0m \u001b[32m75.6/75.6 kB\u001b[0m \u001b[31m4.1 MB/s\u001b[0m eta \u001b[36m0:00:00\u001b[0m\n",
            "\u001b[?25hRequirement already satisfied: pydantic<3,>=1.9.0 in /usr/local/lib/python3.10/dist-packages (from groq) (2.7.3)\n",
            "Requirement already satisfied: sniffio in /usr/local/lib/python3.10/dist-packages (from groq) (1.3.1)\n",
            "Requirement already satisfied: typing-extensions<5,>=4.7 in /usr/local/lib/python3.10/dist-packages (from groq) (4.12.2)\n",
            "Requirement already satisfied: idna>=2.8 in /usr/local/lib/python3.10/dist-packages (from anyio<5,>=3.5.0->groq) (3.7)\n",
            "Requirement already satisfied: exceptiongroup in /usr/local/lib/python3.10/dist-packages (from anyio<5,>=3.5.0->groq) (1.2.1)\n",
            "Requirement already satisfied: certifi in /usr/local/lib/python3.10/dist-packages (from httpx<1,>=0.23.0->groq) (2024.6.2)\n",
            "Collecting httpcore==1.* (from httpx<1,>=0.23.0->groq)\n",
            "  Downloading httpcore-1.0.5-py3-none-any.whl (77 kB)\n",
            "\u001b[2K     \u001b[90m━━━━━━━━━━━━━━━━━━━━━━━━━━━━━━━━━━━━━━━━\u001b[0m \u001b[32m77.9/77.9 kB\u001b[0m \u001b[31m4.9 MB/s\u001b[0m eta \u001b[36m0:00:00\u001b[0m\n",
            "\u001b[?25hCollecting h11<0.15,>=0.13 (from httpcore==1.*->httpx<1,>=0.23.0->groq)\n",
            "  Downloading h11-0.14.0-py3-none-any.whl (58 kB)\n",
            "\u001b[2K     \u001b[90m━━━━━━━━━━━━━━━━━━━━━━━━━━━━━━━━━━━━━━━━\u001b[0m \u001b[32m58.3/58.3 kB\u001b[0m \u001b[31m4.6 MB/s\u001b[0m eta \u001b[36m0:00:00\u001b[0m\n",
            "\u001b[?25hRequirement already satisfied: annotated-types>=0.4.0 in /usr/local/lib/python3.10/dist-packages (from pydantic<3,>=1.9.0->groq) (0.7.0)\n",
            "Requirement already satisfied: pydantic-core==2.18.4 in /usr/local/lib/python3.10/dist-packages (from pydantic<3,>=1.9.0->groq) (2.18.4)\n",
            "Installing collected packages: h11, httpcore, httpx, groq\n",
            "Successfully installed groq-0.9.0 h11-0.14.0 httpcore-1.0.5 httpx-0.27.0\n"
          ]
        }
      ]
    },
    {
      "cell_type": "code",
      "source": [
        "import os\n",
        "from groq import Groq"
      ],
      "metadata": {
        "id": "65rQWZ-TEJNl"
      },
      "execution_count": 17,
      "outputs": []
    },
    {
      "cell_type": "code",
      "source": [
        "client = Groq(\n",
        "    api_key='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',\n",
        ")"
      ],
      "metadata": {
        "id": "JjUpM3jREO-m"
      },
      "execution_count": 18,
      "outputs": []
    },
    {
      "cell_type": "code",
      "source": [
        "def calculate_setiment_llama(article):\n",
        "    prompt = f'''Do the sentiment analysis of this article and give out a real value between 0 and 1, 0 showing negative sentiment and 1 showing positive sentiment. Only output real value between 0 and 1.\n",
        "    Article:\n",
        "    {article}\n",
        "    '''\n",
        "    chat_completion = client.chat.completions.create(\n",
        "        messages=[\n",
        "            {\n",
        "                \"role\": \"system\",\n",
        "                \"content\": \"you are a helpful assistant.\"\n",
        "            },\n",
        "            {\n",
        "                \"role\": \"user\",\n",
        "                \"content\": prompt,\n",
        "            }\n",
        "        ],\n",
        "        model=\"llama3-70b-8192\",\n",
        "    )\n",
        "    return chat_completion.choices[0].message.content"
      ],
      "metadata": {
        "id": "8y7cwwmdESUI"
      },
      "execution_count": 19,
      "outputs": []
    },
    {
      "cell_type": "code",
      "source": [
        "url = 'https://indianexpress.com/article/business/commodities/reliance-buy-russian-oil-from-rosneft-in-rouble-opec-oil-cut-9358229/'\n",
        "article = Article(url)\n",
        "article.download()\n",
        "article.parse()"
      ],
      "metadata": {
        "id": "F0tziNwpFMbp"
      },
      "execution_count": 20,
      "outputs": []
    },
    {
      "cell_type": "code",
      "source": [
        "calculate_setiment_llama(article.text)"
      ],
      "metadata": {
        "colab": {
          "base_uri": "https://localhost:8080/",
          "height": 105
        },
        "id": "N1c1nTn5FU7G",
        "outputId": "26aaebba-5cda-4062-85e9-1b060282061a"
      },
      "execution_count": 21,
      "outputs": [
        {
          "output_type": "execute_result",
          "data": {
            "text/plain": [
              "'Based on the sentiment analysis of this article, I would give a sentiment score of 0.67.\\n\\nThe article reports on a deal between Reliance Industries and Rosneft, which is a neutral to positive development. The language used is mostly neutral and factual, with no overtly negative or emotional tone. The article presents the deal as a strategic partnership and quotes Rosneft as saying that India is a strategic partner, which adds a slightly positive tone. The article also mentions that the deal helps Reliance to secure oil at discounted rates, which is a positive development.\\n\\nHowever, the article also mentions the context of US and European sanctions against Russia, which adds a slightly negative tone. Overall, the sentiment of the article is more positive than negative, but it is still a fairly neutral and factual report.'"
            ],
            "application/vnd.google.colaboratory.intrinsic+json": {
              "type": "string"
            }
          },
          "metadata": {},
          "execution_count": 21
        }
      ]
    },
    {
      "cell_type": "code",
      "source": [
        "##Extracting Sentiment Score from this text\n",
        "import re\n",
        "def extract_real_number(text):\n",
        "    # Define a regex pattern for a real number between 0 and 1\n",
        "    pattern = r'\\b0?\\.\\d+\\b'\n",
        "\n",
        "    # Search for the pattern in the text\n",
        "    match = re.search(pattern, text)\n",
        "\n",
        "    if match:\n",
        "        # Convert the matched string to a float and return\n",
        "        return float(match.group())\n",
        "    else:\n",
        "        # Return None if no match is found\n",
        "        return None\n",
        "\n",
        "number = extract_real_number(calculate_setiment_llama(article.text))\n",
        "print(number)  # Output should be 0.8\n"
      ],
      "metadata": {
        "colab": {
          "base_uri": "https://localhost:8080/"
        },
        "id": "jpW3gpAkFY3B",
        "outputId": "e06922d4-5e20-4457-9e31-401b6f85ab50"
      },
      "execution_count": 22,
      "outputs": [
        {
          "output_type": "stream",
          "name": "stdout",
          "text": [
            "0.67\n"
          ]
        }
      ]
    },
    {
      "cell_type": "code",
      "source": [],
      "metadata": {
        "id": "xBUrdeogFxf5"
      },
      "execution_count": null,
      "outputs": []
    },
    {
      "cell_type": "markdown",
      "source": [
        "# Using other sources to retrive News Link\n"
      ],
      "metadata": {
        "id": "OdqmZEwZF6f4"
      }
    },
    {
      "cell_type": "code",
      "source": [
        "## Using finviz.com\n",
        "url = 'https://finviz.com/quote.ashx?t=amzn'"
      ],
      "metadata": {
        "id": "6o8IiKvXF_CZ"
      },
      "execution_count": 23,
      "outputs": []
    },
    {
      "cell_type": "code",
      "source": [
        "from urllib.request import urlopen, Request\n",
        "import requests\n",
        "from bs4 import BeautifulSoup\n",
        "req = Request(url=url, headers={'user-agent': 'my-app'})\n",
        "response = urlopen(req)\n",
        "\n",
        "html = BeautifulSoup(response, features='html.parser')\n",
        "news_table = html.find(id='news-table')"
      ],
      "metadata": {
        "id": "NShJR3KgGNEq"
      },
      "execution_count": 24,
      "outputs": []
    },
    {
      "cell_type": "code",
      "source": [
        "news_link = []\n",
        "for row in news_table.findAll('tr'):\n",
        "    # title = row.a.text\n",
        "    # news_link.append([date, time, title])\n",
        "    # news_link.append()\n",
        "    temp = []\n",
        "    for x in row.find_all('a', href=True):\n",
        "        temp.append(x['href'])\n",
        "    news_link.append(temp)\n",
        "\n",
        "news_link            #############Try to pick top 15 news because it will be hard to sort on basis of date"
      ],
      "metadata": {
        "colab": {
          "base_uri": "https://localhost:8080/"
        },
        "id": "E5D_MEWcGPdw",
        "outputId": "8a39e5f1-8dd3-4627-be6a-c6d514e6970c"
      },
      "execution_count": 25,
      "outputs": [
        {
          "output_type": "execute_result",
          "data": {
            "text/plain": [
              "[['https://finance.yahoo.com/m/5a5f9003-5a17-3930-91cf-765ecaa18836/6-artficial-intelligence-%28ai%29.html'],\n",
              " ['https://finance.yahoo.com/m/9388d37e-88ab-36f7-be95-06b77c959abc/could-this-bull-market-buy.html'],\n",
              " ['https://finance.yahoo.com/m/c3922728-02d1-36b9-a9de-79642fa015cc/where-will-amazon-stock-be-in.html'],\n",
              " ['https://investorplace.com/2024/06/3-ai-stocks-to-turn-10000-into-1-million-june-2024/'],\n",
              " ['https://finance.yahoo.com/m/944e70e8-542f-3c5e-b84e-d0fed2a49b95/3-top-stocks-that.html'],\n",
              " [],\n",
              " ['https://finance.yahoo.com/m/b3a3d62e-e8a2-3fce-a0c3-6cc058e3162d/a-once-in-a-generation.html'],\n",
              " ['https://finance.yahoo.com/m/fd21e48f-6501-3050-806d-a77dcdaf51ad/is-plug-power-stock-a.html'],\n",
              " ['https://investorplace.com/2024/06/stock-splits-101-the-5-most-common-questions-answered/'],\n",
              " ['https://finance.yahoo.com/m/cf27049b-3a35-3811-8d84-44a4e92bfb60/2-warren-buffett-stocks-to.html'],\n",
              " ['https://finance.yahoo.com/m/20bbe145-3966-314b-8d7f-4560fb9306d8/3-reasons-investors-should.html'],\n",
              " ['https://finance.yahoo.com/m/8d227ee3-1d6c-3656-be6d-b82cb1b9cf78/billionaire-investor-warren.html'],\n",
              " ['https://finance.yahoo.com/m/f0a2f22e-223f-3d01-9562-2220643c3e38/even-if-stock-split-stock.html'],\n",
              " ['https://finance.yahoo.com/m/308f944d-9cb3-3a02-86f7-fee73912cf49/is-it-too-late-to-buy-apple.html'],\n",
              " ['https://finance.yahoo.com/m/fbae03a8-f458-3cd9-ac60-35a6b43b3ce3/2-soaring-stocks-to-hold-for.html'],\n",
              " ['https://finance.yahoo.com/m/e1fde75f-a42b-3559-aa4d-78ce2ae23d62/morningstar-%7C-a-weekly.html'],\n",
              " [],\n",
              " ['https://finance.yahoo.com/m/95ae5200-00ef-3fe2-9bb8-e796ecfa6138/2-artificial-intelligence.html'],\n",
              " ['https://www.youtube.com/watch?v=P93JcbDxqg0'],\n",
              " ['https://www.youtube.com/watch?v=8A7Tbj-oQEA'],\n",
              " ['https://qz.com/amazon-alexa-ai-apple-openai-chatgpt-1851540465'],\n",
              " ['https://finance.yahoo.com/news/netflix-overvalued-amid-future-content-140003014.html'],\n",
              " ['https://www.insidermonkey.com/blog/analyst-says-amazon-com-inc-nasdaqamzn-is-poised-to-be-a-winner-1313581/'],\n",
              " ['https://www.zacks.com/stock/news/2288492/here-s-why-amazon-amzn-is-a-strong-momentum-stock'],\n",
              " ['https://www.businesswire.com/news/home/20240614247740/en/Amazon'],\n",
              " ['https://finance.yahoo.com/m/db93251a-64ad-38b9-b7af-760e3f9af7ea/walmart%2B-week-returns-monday.html'],\n",
              " ['https://investorplace.com/2024/06/the-3-best-retail-stocks-to-buy-in-june-2024/'],\n",
              " ['https://finance.yahoo.com/news/microsoft-invest-7-16-billion-113037582.html'],\n",
              " ['https://investorplace.com/2024/06/the-only-7-data-center-stocks-investors-need-in-order-to-capitalize-on-ai/'],\n",
              " ['https://www.digitimes.com/news/a20240614PD213/samsung-us-ai.html'],\n",
              " ['https://www.insidermonkey.com/blog/multibank-io-bridges-the-gap-introducing-real-world-assets-rwas-for-streamlined-investing-1313644/'],\n",
              " ['https://finance.yahoo.com/news/targets-renewed-private-label-push-100458272.html'],\n",
              " [],\n",
              " ['https://finance.yahoo.com/m/6661c7ee-f8b0-31a3-a425-b2337bca2cee/amazon-has-upended-the.html'],\n",
              " ['https://finance.yahoo.com/m/df27c5f5-a81d-39c5-b640-cdfe165dc296/the-ultimate-growth-stock-to.html'],\n",
              " ['https://finance.yahoo.com/m/23dd1617-7b03-35b4-af82-eed818345d95/3-reasons-to-buy-rivian-now.html'],\n",
              " ['https://www.bloomberg.com/opinion/articles/2024-06-14/tesla-amazon-distort-us-consumer-health-prognosis'],\n",
              " ['https://chainstoreage.com/amazon-invests-14b-housing-230m-generative-ai-startups'],\n",
              " ['https://www.zacks.com/stock/news/2288092/amazon-amzn-stock-drops-despite-market-gains-important-facts-to-note'],\n",
              " ['https://finance.yahoo.com/m/83ba7f50-ad97-3562-80d1-78afd341e866/amazon-says-it%27ll-spend-%24230.html'],\n",
              " ['https://www.prnewswire.com/news-releases/national-safety-council-marks-msd-pledge-anniversary-by-surpassing-200-signatories-and-awarding-nearly-265-000-in-grants-to-solve-the-most-common-workplace-injury-302172222.html'],\n",
              " ['https://finance.yahoo.com/news/amazon-commits-additional-1-4b-174943574.html'],\n",
              " ['https://finance.yahoo.com/m/800abcbf-b7ac-3286-9ec7-001f9903dbc3/more-than-15%2C000-amazon-flex.html'],\n",
              " ['https://www.investopedia.com/broadcom-stock-continues-to-set-records-on-ai-excitement-8662805'],\n",
              " ['https://www.prnewswire.com/news-releases/ai-development-accelerates-market-watch-on-emerging-ai-innovations-302172152.html'],\n",
              " ['https://www.zacks.com/stock/news/2287840/why-amazon-amzn-is-a-top-value-stock-for-the-long-term'],\n",
              " ['https://www.businesswire.com/news/home/20240613465799/en/'],\n",
              " ['https://finance.yahoo.com/news/amazon-com-inc-nasdaq-amzn-113756931.html'],\n",
              " ['https://finance.yahoo.com/m/0dc7649d-1eae-39b5-9e1c-00cf0c7504c4/1-unstoppable-stock-that.html'],\n",
              " ['https://finance.yahoo.com/news/amazon-adds-230-million-cloud-101416167.html'],\n",
              " ['https://finance.yahoo.com/m/9082508d-ca52-34f0-8369-e347c6def02f/here-are-my-top-2-magnificent.html'],\n",
              " ['https://finance.yahoo.com/m/9c59e948-ec9d-33ae-8b81-9e8427f26aa7/doordash-faces-the-might-of.html'],\n",
              " ['https://www.businesswire.com/news/home/20240613221984/en/Outside'],\n",
              " ['https://finance.yahoo.com/news/amazon-blew-alexa-shot-dominate-015053533.html'],\n",
              " ['https://www.digitimes.com/news/a20240612PD221/aws-taiwan-data-center-amazon-ecloudvalley-finance-healthcare.html'],\n",
              " ['https://finance.yahoo.com/news/amazon-often-says-employees-satisfied-213029898.html'],\n",
              " ['https://finance.yahoo.com/m/6ef9663c-9cc6-33b2-bafe-81851eaf133d/heard-on-the-street%3A-apple.html'],\n",
              " ['https://chainstoreage.com/amazon-web-services-plans-growth-asia'],\n",
              " ['https://finance.yahoo.com/m/8aa987f9-c535-3edb-ab5c-d5f0f824410d/more-than-15%2C000-amazon.html'],\n",
              " ['https://finance.yahoo.com/m/d3968e0f-ec81-327d-9997-e139bd7a20ba/prediction%3A-this-will-be.html'],\n",
              " ['https://www.investopedia.com/paramount-stock-lags-after-shari-redstone-kills-skydance-deal-8662151'],\n",
              " ['https://finance.yahoo.com/m/e78b8218-d03d-3e3c-a66b-59b1cd344685/3-ai-stocks-that-have-turned.html'],\n",
              " ['https://www.zacks.com/stock/news/2287465/amazon-amzn-gains-from-generative-ai-driven-aws-momentum'],\n",
              " ['https://finance.yahoo.com/news/whole-paycheck-whole-strategy-whole-143014459.html'],\n",
              " ['https://investorplace.com/2024/06/3-unshakeable-stocks-to-buy-for-slowing-u-s-growth/'],\n",
              " ['https://finance.yahoo.com/m/405c866a-c3f2-3086-be27-899f66168886/2-millionaire-maker.html'],\n",
              " ['https://finance.yahoo.com/m/17515997-eac2-3e16-8800-6a79ebe29810/prediction%3A-2-stocks-that.html'],\n",
              " ['https://investorplace.com/2024/06/netflix-stock-analysis-cash-cow-today-but-uncertain-outlook-for-tomorrow/'],\n",
              " ['https://finance.yahoo.com/news/jim-cramer-says-amazon-com-120508025.html'],\n",
              " ['https://finance.yahoo.com/m/3c96f6d4-f451-3d94-9979-feca56e58879/3-top-artificial-intelligence.html'],\n",
              " ['https://www.investopedia.com/5-things-to-know-before-the-stock-market-opens-june-12-2024-8661620'],\n",
              " ['https://finance.yahoo.com/m/e9daddda-8b4e-3d13-aa1f-c7cc1e77f7b0/2-unstoppable-artificial.html'],\n",
              " ['https://finance.yahoo.com/m/2ef2abae-c630-3c5d-abdb-ef551f5e2245/amazon-flex-drivers-file.html'],\n",
              " ['https://investorplace.com/2024/06/7-growth-stocks-blackrock-is-buying-and-you-should-too/'],\n",
              " ['https://investorplace.com/2024/06/amazon-stock-why-this-cash-rich-titan-is-poised-for-continued-greatness/'],\n",
              " ['https://finance.yahoo.com/m/ca8492fb-8246-3996-9431-f35943ba387c/billionaires-are-selling.html'],\n",
              " ['https://www.digitimes.com/news/a20240612VL207/aws-infrastructure-region-taiwan-ai.html'],\n",
              " ['https://www.insidermonkey.com/blog/jim-cramer-is-recommending-these-10-stocks-in-june-2-1312746/'],\n",
              " ['https://finance.yahoo.com/m/fc28ce85-6aae-3005-b36c-2594be6894d7/amazon-to-invest-billions-in.html'],\n",
              " ['https://www.businesswire.com/news/home/20240611905997/en/'],\n",
              " ['https://finance.yahoo.com/news/thousands-amazon-flex-drivers-file-005225425.html'],\n",
              " ['https://www.investopedia.com/4-key-takeaways-from-oracle-q4-fy-2024-earnings-call-8661875'],\n",
              " ['https://finance.yahoo.com/video/oil-prices-national-amusement-ends-224032938.html'],\n",
              " ['https://finance.yahoo.com/news/americans-flocking-temu-trust-amazon-215857009.html'],\n",
              " ['https://finance.yahoo.com/news/walmart-is-winning-over-investors-but-its-growth-story-relies-on-three-key-e-commerce-initiatives-211101127.html'],\n",
              " ['https://finance.yahoo.com/video/walmart-3-initiatives-retail-giant-205212313.html'],\n",
              " ['https://www.investopedia.com/warner-bros-discovery-lands-us-broadcast-rights-to-the-french-open-8661603'],\n",
              " ['https://investorplace.com/hypergrowthinvesting/2024/06/apple-intelligence-could-dominate-the-big-tech-ai-race/'],\n",
              " ['https://investorplace.com/2024/06/exit-now-3-ai-stocks-to-sell-in-june-2024/'],\n",
              " ['https://finance.yahoo.com/news/chinese-retailer-temu-gains-edge-184840413.html'],\n",
              " ['https://www.investopedia.com/what-apple-openai-partnership-could-mean-for-microsoft-and-google-8661504'],\n",
              " ['https://finance.yahoo.com/m/e11513ce-f5b5-33c0-aeb5-90fb3a53a123/e-commerce-is-still-growing.html'],\n",
              " ['https://finance.yahoo.com/news/nvidia-stock-split-might-not-180445889.html'],\n",
              " ['https://www.youtube.com/watch?v=rGPPEcx1rFs'],\n",
              " ['https://www.investopedia.com/apple-stock-hits-record-high-on-anticipation-of-ai-fueled-growth-8661444'],\n",
              " ['https://finance.yahoo.com/m/0e9eaf53-cad1-3125-8d86-2d487d45bc03/heard-on-the-street%3A-apple%E2%80%99s.html'],\n",
              " ['https://finance.yahoo.com/m/c9b64859-aa84-3f26-94c3-1233ac40138b/amazon%3A-buy%2C-sell%2C-or-hold%3F.html'],\n",
              " ['https://www.zacks.com/stock/news/2286495/amazon-com-inc-amzn-is-a-trending-stock-facts-to-know-before-betting-on-it'],\n",
              " ['https://finance.yahoo.com/m/a968262f-7b71-3684-9793-a9d46ebf8ed9/is-amazon-stock-a-buy%3F-tech.html'],\n",
              " ['https://investorplace.com/2024/06/3-growth-stock-picks-that-will-add-prestige-to-your-portfolio/'],\n",
              " ['https://investorplace.com/2024/06/3-boring-stocks-to-buy-to-steadily-grow-your-wealth-for-the-next-decade/'],\n",
              " ['https://investorplace.com/2024/06/michael-burry-has-26-of-his-portfolio-invested-in-these-3-stocks/'],\n",
              " ['https://finance.yahoo.com/m/11bc5e4f-7775-36b0-aadf-0494f1cca5aa/3-no-brainer.html']]"
            ]
          },
          "metadata": {},
          "execution_count": 25
        }
      ]
    },
    {
      "cell_type": "code",
      "source": [],
      "metadata": {
        "id": "rBgl05uIGSz_"
      },
      "execution_count": null,
      "outputs": []
    }
  ]
}