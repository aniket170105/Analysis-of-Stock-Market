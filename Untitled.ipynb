{
 "cells": [
  {
   "cell_type": "code",
   "execution_count": 78,
   "id": "1dfb9335-83af-49ca-921f-9a09428e00c0",
   "metadata": {},
   "outputs": [],
   "source": [
    "### Order --->>> reportedEPS\tCurrent Ratio\tQuick Ratio\tDebt to Equity\tDebt to Asset\t\n",
    "# Gross Margin\tProfit Margin\tOperating Margin\tInterest Coverage\tReturn On StockHolder\tFree Cash Flow Conversion\n",
    "\n",
    "import joblib\n",
    "import numpy as np\n",
    "import pandas as pd\n",
    "from sklearn.pipeline import make_pipeline\n",
    "\n",
    "def appFundamental(list_of_ratios, sector):\n",
    "    scaler = joblib.load('Fundamental Analysis/scaler.pkl')\n",
    "    model = joblib.load('Fundamental Analysis/model.pkl')\n",
    "    pipeline = make_pipeline(scaler, model)\n",
    "    temp = [list_of_ratios] ###Because model expect a 2D array\n",
    "    predictions = pipeline.predict(temp)\n",
    "    return predictions[0]"
   ]
  },
  {
   "cell_type": "code",
   "execution_count": 30,
   "id": "ec421e32-9155-4231-b418-b45142f7f957",
   "metadata": {},
   "outputs": [
    {
     "name": "stderr",
     "output_type": "stream",
     "text": [
      "C:\\Users\\LENOVO\\AppData\\Local\\Programs\\Python\\Python311\\Lib\\site-packages\\sklearn\\base.py:464: UserWarning: X does not have valid feature names, but MinMaxScaler was fitted with feature names\n",
      "  warnings.warn(\n"
     ]
    },
    {
     "data": {
      "text/plain": [
       "1"
      ]
     },
     "execution_count": 30,
     "metadata": {},
     "output_type": "execute_result"
    }
   ],
   "source": [
    "appFundamental([1.4600,0.988012,0.843312,4.673462,0.823741,0.456823,0.305076,0.316398,27.944112,0.369388,0.656100],'technologySector')"
   ]
  },
  {
   "cell_type": "code",
   "execution_count": 34,
   "id": "c01084dc-bed5-4c11-9464-704696ba9125",
   "metadata": {},
   "outputs": [],
   "source": [
    "import pandas as pd\n",
    "temp = pd.read_csv('Data Sector Wise/Technology/Test AAPL/AAPLfundamental_data.csv')\n",
    "# temp"
   ]
  },
  {
   "cell_type": "code",
   "execution_count": 35,
   "id": "25864808-49b3-4fb2-ba85-a4a6ff5348a9",
   "metadata": {},
   "outputs": [],
   "source": [
    "temp = temp.replace([np.inf, -np.inf], np.nan)\n",
    "temp = temp.fillna(temp.mean())\n",
    "\n",
    "X_test = temp.drop(columns = ['Action','Inventory Ratio'])\n",
    "y_test = temp['Action']"
   ]
  },
  {
   "cell_type": "code",
   "execution_count": 36,
   "id": "71c4e3a2-9e8d-49f9-8885-036da8876807",
   "metadata": {},
   "outputs": [
    {
     "name": "stdout",
     "output_type": "stream",
     "text": [
      "              precision    recall  f1-score   support\n",
      "\n",
      "           0       0.36      0.21      0.27        19\n",
      "           1       0.67      0.82      0.74        38\n",
      "\n",
      "    accuracy                           0.61        57\n",
      "   macro avg       0.52      0.51      0.50        57\n",
      "weighted avg       0.57      0.61      0.58        57\n",
      "\n"
     ]
    },
    {
     "name": "stderr",
     "output_type": "stream",
     "text": [
      "C:\\Users\\LENOVO\\AppData\\Local\\Programs\\Python\\Python311\\Lib\\site-packages\\sklearn\\base.py:464: UserWarning: X does not have valid feature names, but MinMaxScaler was fitted with feature names\n",
      "  warnings.warn(\n",
      "C:\\Users\\LENOVO\\AppData\\Local\\Programs\\Python\\Python311\\Lib\\site-packages\\sklearn\\base.py:464: UserWarning: X does not have valid feature names, but MinMaxScaler was fitted with feature names\n",
      "  warnings.warn(\n",
      "C:\\Users\\LENOVO\\AppData\\Local\\Programs\\Python\\Python311\\Lib\\site-packages\\sklearn\\base.py:464: UserWarning: X does not have valid feature names, but MinMaxScaler was fitted with feature names\n",
      "  warnings.warn(\n",
      "C:\\Users\\LENOVO\\AppData\\Local\\Programs\\Python\\Python311\\Lib\\site-packages\\sklearn\\base.py:464: UserWarning: X does not have valid feature names, but MinMaxScaler was fitted with feature names\n",
      "  warnings.warn(\n",
      "C:\\Users\\LENOVO\\AppData\\Local\\Programs\\Python\\Python311\\Lib\\site-packages\\sklearn\\base.py:464: UserWarning: X does not have valid feature names, but MinMaxScaler was fitted with feature names\n",
      "  warnings.warn(\n",
      "C:\\Users\\LENOVO\\AppData\\Local\\Programs\\Python\\Python311\\Lib\\site-packages\\sklearn\\base.py:464: UserWarning: X does not have valid feature names, but MinMaxScaler was fitted with feature names\n",
      "  warnings.warn(\n",
      "C:\\Users\\LENOVO\\AppData\\Local\\Programs\\Python\\Python311\\Lib\\site-packages\\sklearn\\base.py:464: UserWarning: X does not have valid feature names, but MinMaxScaler was fitted with feature names\n",
      "  warnings.warn(\n",
      "C:\\Users\\LENOVO\\AppData\\Local\\Programs\\Python\\Python311\\Lib\\site-packages\\sklearn\\base.py:464: UserWarning: X does not have valid feature names, but MinMaxScaler was fitted with feature names\n",
      "  warnings.warn(\n",
      "C:\\Users\\LENOVO\\AppData\\Local\\Programs\\Python\\Python311\\Lib\\site-packages\\sklearn\\base.py:464: UserWarning: X does not have valid feature names, but MinMaxScaler was fitted with feature names\n",
      "  warnings.warn(\n",
      "C:\\Users\\LENOVO\\AppData\\Local\\Programs\\Python\\Python311\\Lib\\site-packages\\sklearn\\base.py:464: UserWarning: X does not have valid feature names, but MinMaxScaler was fitted with feature names\n",
      "  warnings.warn(\n",
      "C:\\Users\\LENOVO\\AppData\\Local\\Programs\\Python\\Python311\\Lib\\site-packages\\sklearn\\base.py:464: UserWarning: X does not have valid feature names, but MinMaxScaler was fitted with feature names\n",
      "  warnings.warn(\n",
      "C:\\Users\\LENOVO\\AppData\\Local\\Programs\\Python\\Python311\\Lib\\site-packages\\sklearn\\base.py:464: UserWarning: X does not have valid feature names, but MinMaxScaler was fitted with feature names\n",
      "  warnings.warn(\n",
      "C:\\Users\\LENOVO\\AppData\\Local\\Programs\\Python\\Python311\\Lib\\site-packages\\sklearn\\base.py:464: UserWarning: X does not have valid feature names, but MinMaxScaler was fitted with feature names\n",
      "  warnings.warn(\n",
      "C:\\Users\\LENOVO\\AppData\\Local\\Programs\\Python\\Python311\\Lib\\site-packages\\sklearn\\base.py:464: UserWarning: X does not have valid feature names, but MinMaxScaler was fitted with feature names\n",
      "  warnings.warn(\n",
      "C:\\Users\\LENOVO\\AppData\\Local\\Programs\\Python\\Python311\\Lib\\site-packages\\sklearn\\base.py:464: UserWarning: X does not have valid feature names, but MinMaxScaler was fitted with feature names\n",
      "  warnings.warn(\n",
      "C:\\Users\\LENOVO\\AppData\\Local\\Programs\\Python\\Python311\\Lib\\site-packages\\sklearn\\base.py:464: UserWarning: X does not have valid feature names, but MinMaxScaler was fitted with feature names\n",
      "  warnings.warn(\n",
      "C:\\Users\\LENOVO\\AppData\\Local\\Programs\\Python\\Python311\\Lib\\site-packages\\sklearn\\base.py:464: UserWarning: X does not have valid feature names, but MinMaxScaler was fitted with feature names\n",
      "  warnings.warn(\n",
      "C:\\Users\\LENOVO\\AppData\\Local\\Programs\\Python\\Python311\\Lib\\site-packages\\sklearn\\base.py:464: UserWarning: X does not have valid feature names, but MinMaxScaler was fitted with feature names\n",
      "  warnings.warn(\n",
      "C:\\Users\\LENOVO\\AppData\\Local\\Programs\\Python\\Python311\\Lib\\site-packages\\sklearn\\base.py:464: UserWarning: X does not have valid feature names, but MinMaxScaler was fitted with feature names\n",
      "  warnings.warn(\n",
      "C:\\Users\\LENOVO\\AppData\\Local\\Programs\\Python\\Python311\\Lib\\site-packages\\sklearn\\base.py:464: UserWarning: X does not have valid feature names, but MinMaxScaler was fitted with feature names\n",
      "  warnings.warn(\n",
      "C:\\Users\\LENOVO\\AppData\\Local\\Programs\\Python\\Python311\\Lib\\site-packages\\sklearn\\base.py:464: UserWarning: X does not have valid feature names, but MinMaxScaler was fitted with feature names\n",
      "  warnings.warn(\n",
      "C:\\Users\\LENOVO\\AppData\\Local\\Programs\\Python\\Python311\\Lib\\site-packages\\sklearn\\base.py:464: UserWarning: X does not have valid feature names, but MinMaxScaler was fitted with feature names\n",
      "  warnings.warn(\n",
      "C:\\Users\\LENOVO\\AppData\\Local\\Programs\\Python\\Python311\\Lib\\site-packages\\sklearn\\base.py:464: UserWarning: X does not have valid feature names, but MinMaxScaler was fitted with feature names\n",
      "  warnings.warn(\n",
      "C:\\Users\\LENOVO\\AppData\\Local\\Programs\\Python\\Python311\\Lib\\site-packages\\sklearn\\base.py:464: UserWarning: X does not have valid feature names, but MinMaxScaler was fitted with feature names\n",
      "  warnings.warn(\n",
      "C:\\Users\\LENOVO\\AppData\\Local\\Programs\\Python\\Python311\\Lib\\site-packages\\sklearn\\base.py:464: UserWarning: X does not have valid feature names, but MinMaxScaler was fitted with feature names\n",
      "  warnings.warn(\n",
      "C:\\Users\\LENOVO\\AppData\\Local\\Programs\\Python\\Python311\\Lib\\site-packages\\sklearn\\base.py:464: UserWarning: X does not have valid feature names, but MinMaxScaler was fitted with feature names\n",
      "  warnings.warn(\n",
      "C:\\Users\\LENOVO\\AppData\\Local\\Programs\\Python\\Python311\\Lib\\site-packages\\sklearn\\base.py:464: UserWarning: X does not have valid feature names, but MinMaxScaler was fitted with feature names\n",
      "  warnings.warn(\n",
      "C:\\Users\\LENOVO\\AppData\\Local\\Programs\\Python\\Python311\\Lib\\site-packages\\sklearn\\base.py:464: UserWarning: X does not have valid feature names, but MinMaxScaler was fitted with feature names\n",
      "  warnings.warn(\n",
      "C:\\Users\\LENOVO\\AppData\\Local\\Programs\\Python\\Python311\\Lib\\site-packages\\sklearn\\base.py:464: UserWarning: X does not have valid feature names, but MinMaxScaler was fitted with feature names\n",
      "  warnings.warn(\n",
      "C:\\Users\\LENOVO\\AppData\\Local\\Programs\\Python\\Python311\\Lib\\site-packages\\sklearn\\base.py:464: UserWarning: X does not have valid feature names, but MinMaxScaler was fitted with feature names\n",
      "  warnings.warn(\n",
      "C:\\Users\\LENOVO\\AppData\\Local\\Programs\\Python\\Python311\\Lib\\site-packages\\sklearn\\base.py:464: UserWarning: X does not have valid feature names, but MinMaxScaler was fitted with feature names\n",
      "  warnings.warn(\n",
      "C:\\Users\\LENOVO\\AppData\\Local\\Programs\\Python\\Python311\\Lib\\site-packages\\sklearn\\base.py:464: UserWarning: X does not have valid feature names, but MinMaxScaler was fitted with feature names\n",
      "  warnings.warn(\n",
      "C:\\Users\\LENOVO\\AppData\\Local\\Programs\\Python\\Python311\\Lib\\site-packages\\sklearn\\base.py:464: UserWarning: X does not have valid feature names, but MinMaxScaler was fitted with feature names\n",
      "  warnings.warn(\n",
      "C:\\Users\\LENOVO\\AppData\\Local\\Programs\\Python\\Python311\\Lib\\site-packages\\sklearn\\base.py:464: UserWarning: X does not have valid feature names, but MinMaxScaler was fitted with feature names\n",
      "  warnings.warn(\n",
      "C:\\Users\\LENOVO\\AppData\\Local\\Programs\\Python\\Python311\\Lib\\site-packages\\sklearn\\base.py:464: UserWarning: X does not have valid feature names, but MinMaxScaler was fitted with feature names\n",
      "  warnings.warn(\n",
      "C:\\Users\\LENOVO\\AppData\\Local\\Programs\\Python\\Python311\\Lib\\site-packages\\sklearn\\base.py:464: UserWarning: X does not have valid feature names, but MinMaxScaler was fitted with feature names\n",
      "  warnings.warn(\n",
      "C:\\Users\\LENOVO\\AppData\\Local\\Programs\\Python\\Python311\\Lib\\site-packages\\sklearn\\base.py:464: UserWarning: X does not have valid feature names, but MinMaxScaler was fitted with feature names\n",
      "  warnings.warn(\n",
      "C:\\Users\\LENOVO\\AppData\\Local\\Programs\\Python\\Python311\\Lib\\site-packages\\sklearn\\base.py:464: UserWarning: X does not have valid feature names, but MinMaxScaler was fitted with feature names\n",
      "  warnings.warn(\n",
      "C:\\Users\\LENOVO\\AppData\\Local\\Programs\\Python\\Python311\\Lib\\site-packages\\sklearn\\base.py:464: UserWarning: X does not have valid feature names, but MinMaxScaler was fitted with feature names\n",
      "  warnings.warn(\n",
      "C:\\Users\\LENOVO\\AppData\\Local\\Programs\\Python\\Python311\\Lib\\site-packages\\sklearn\\base.py:464: UserWarning: X does not have valid feature names, but MinMaxScaler was fitted with feature names\n",
      "  warnings.warn(\n",
      "C:\\Users\\LENOVO\\AppData\\Local\\Programs\\Python\\Python311\\Lib\\site-packages\\sklearn\\base.py:464: UserWarning: X does not have valid feature names, but MinMaxScaler was fitted with feature names\n",
      "  warnings.warn(\n",
      "C:\\Users\\LENOVO\\AppData\\Local\\Programs\\Python\\Python311\\Lib\\site-packages\\sklearn\\base.py:464: UserWarning: X does not have valid feature names, but MinMaxScaler was fitted with feature names\n",
      "  warnings.warn(\n",
      "C:\\Users\\LENOVO\\AppData\\Local\\Programs\\Python\\Python311\\Lib\\site-packages\\sklearn\\base.py:464: UserWarning: X does not have valid feature names, but MinMaxScaler was fitted with feature names\n",
      "  warnings.warn(\n",
      "C:\\Users\\LENOVO\\AppData\\Local\\Programs\\Python\\Python311\\Lib\\site-packages\\sklearn\\base.py:464: UserWarning: X does not have valid feature names, but MinMaxScaler was fitted with feature names\n",
      "  warnings.warn(\n",
      "C:\\Users\\LENOVO\\AppData\\Local\\Programs\\Python\\Python311\\Lib\\site-packages\\sklearn\\base.py:464: UserWarning: X does not have valid feature names, but MinMaxScaler was fitted with feature names\n",
      "  warnings.warn(\n",
      "C:\\Users\\LENOVO\\AppData\\Local\\Programs\\Python\\Python311\\Lib\\site-packages\\sklearn\\base.py:464: UserWarning: X does not have valid feature names, but MinMaxScaler was fitted with feature names\n",
      "  warnings.warn(\n",
      "C:\\Users\\LENOVO\\AppData\\Local\\Programs\\Python\\Python311\\Lib\\site-packages\\sklearn\\base.py:464: UserWarning: X does not have valid feature names, but MinMaxScaler was fitted with feature names\n",
      "  warnings.warn(\n",
      "C:\\Users\\LENOVO\\AppData\\Local\\Programs\\Python\\Python311\\Lib\\site-packages\\sklearn\\base.py:464: UserWarning: X does not have valid feature names, but MinMaxScaler was fitted with feature names\n",
      "  warnings.warn(\n",
      "C:\\Users\\LENOVO\\AppData\\Local\\Programs\\Python\\Python311\\Lib\\site-packages\\sklearn\\base.py:464: UserWarning: X does not have valid feature names, but MinMaxScaler was fitted with feature names\n",
      "  warnings.warn(\n",
      "C:\\Users\\LENOVO\\AppData\\Local\\Programs\\Python\\Python311\\Lib\\site-packages\\sklearn\\base.py:464: UserWarning: X does not have valid feature names, but MinMaxScaler was fitted with feature names\n",
      "  warnings.warn(\n",
      "C:\\Users\\LENOVO\\AppData\\Local\\Programs\\Python\\Python311\\Lib\\site-packages\\sklearn\\base.py:464: UserWarning: X does not have valid feature names, but MinMaxScaler was fitted with feature names\n",
      "  warnings.warn(\n",
      "C:\\Users\\LENOVO\\AppData\\Local\\Programs\\Python\\Python311\\Lib\\site-packages\\sklearn\\base.py:464: UserWarning: X does not have valid feature names, but MinMaxScaler was fitted with feature names\n",
      "  warnings.warn(\n",
      "C:\\Users\\LENOVO\\AppData\\Local\\Programs\\Python\\Python311\\Lib\\site-packages\\sklearn\\base.py:464: UserWarning: X does not have valid feature names, but MinMaxScaler was fitted with feature names\n",
      "  warnings.warn(\n",
      "C:\\Users\\LENOVO\\AppData\\Local\\Programs\\Python\\Python311\\Lib\\site-packages\\sklearn\\base.py:464: UserWarning: X does not have valid feature names, but MinMaxScaler was fitted with feature names\n",
      "  warnings.warn(\n",
      "C:\\Users\\LENOVO\\AppData\\Local\\Programs\\Python\\Python311\\Lib\\site-packages\\sklearn\\base.py:464: UserWarning: X does not have valid feature names, but MinMaxScaler was fitted with feature names\n",
      "  warnings.warn(\n",
      "C:\\Users\\LENOVO\\AppData\\Local\\Programs\\Python\\Python311\\Lib\\site-packages\\sklearn\\base.py:464: UserWarning: X does not have valid feature names, but MinMaxScaler was fitted with feature names\n",
      "  warnings.warn(\n",
      "C:\\Users\\LENOVO\\AppData\\Local\\Programs\\Python\\Python311\\Lib\\site-packages\\sklearn\\base.py:464: UserWarning: X does not have valid feature names, but MinMaxScaler was fitted with feature names\n",
      "  warnings.warn(\n"
     ]
    }
   ],
   "source": [
    "prediction = []\n",
    "for index, row in X_test.iterrows():\n",
    "    prediction.append(appFundamental(row, 'technologySector'))\n",
    "from sklearn.metrics import classification_report\n",
    "print(classification_report(y_test, np.array(prediction)))"
   ]
  },
  {
   "cell_type": "code",
   "execution_count": null,
   "id": "d1c935f5-dc04-40cd-a9c3-2dad569e9768",
   "metadata": {},
   "outputs": [],
   "source": [
    "#################### Done Working #####"
   ]
  },
  {
   "cell_type": "code",
   "execution_count": 37,
   "id": "05f7ef6c-849d-4b37-ac34-94031987695a",
   "metadata": {},
   "outputs": [],
   "source": [
    "import pandas as pd\n",
    "import yfinance as yf\n",
    "import pandas_ta as ta"
   ]
  },
  {
   "cell_type": "code",
   "execution_count": 45,
   "id": "9e976432-003f-4b6f-9ceb-a1916a38ebdf",
   "metadata": {},
   "outputs": [],
   "source": [
    "def apply_total_signal(df, rsi_threshold_low=30, rsi_threshold_high=70, bb_width_threshold = 0.0015):\n",
    "    # Initialize the 'TotalSignal' column\n",
    "    df['TotalSignal'] = 0\n",
    "    for i in range(1, len(df)):\n",
    "        # Previous candle conditions\n",
    "        prev_candle_closes_below_bb = df['Close'].iloc[i-1] < df['bbl'].iloc[i-1]\n",
    "        prev_rsi_below_thr = df['rsi'].iloc[i-1] < rsi_threshold_low\n",
    "        # Current candle conditions\n",
    "        closes_above_prev_high = df['Close'].iloc[i] > df['High'].iloc[i-1]\n",
    "        bb_width_greater_threshold = df['bb_width'].iloc[i] > bb_width_threshold\n",
    "\n",
    "        # Combine conditions\n",
    "        if (prev_candle_closes_below_bb and\n",
    "            prev_rsi_below_thr and\n",
    "            closes_above_prev_high and\n",
    "            bb_width_greater_threshold):\n",
    "            df.at[i, 'TotalSignal'] = 2  # Set the buy signal for the current candle\n",
    "\n",
    "        # Previous candle conditions\n",
    "        prev_candle_closes_above_bb = df['Close'].iloc[i-1] > df['bbh'].iloc[i-1]\n",
    "        prev_rsi_above_thr = df['rsi'].iloc[i-1] > rsi_threshold_high\n",
    "        # Current candle conditions\n",
    "        closes_below_prev_low = df['Close'].iloc[i] < df['Low'].iloc[i-1]\n",
    "        bb_width_greater_threshold = df['bb_width'].iloc[i] > bb_width_threshold\n",
    "\n",
    "        # Combine conditions\n",
    "        if (prev_candle_closes_above_bb and\n",
    "            prev_rsi_above_thr and\n",
    "            closes_below_prev_low and\n",
    "            bb_width_greater_threshold):\n",
    "            df.at[i, 'TotalSignal'] = 1  # Set the sell signal for the current candle\n",
    "    return df"
   ]
  },
  {
   "cell_type": "code",
   "execution_count": 46,
   "id": "7ad1993f-4601-47b7-88c5-9f8d2b557518",
   "metadata": {},
   "outputs": [],
   "source": [
    "def appTechnicalIndicatorBased(ticker_name):\n",
    "    df = yf.download(ticker_name, interval='5m', period='1mo')\n",
    "    df=df[df.High!=df.Low]\n",
    "    df.reset_index(inplace=True)\n",
    "    \n",
    "    df.ta.bbands(append=True, length=30, std=2)\n",
    "    df.ta.rsi(append=True, length=14)\n",
    "    df[\"atr\"] = ta.atr(low = df.Low, close = df.Close, high = df.High, length=14)\n",
    "\n",
    "    # Rename columns for clarity if necessary\n",
    "    df.rename(columns={\n",
    "        'BBL_30_2.0': 'bbl', 'BBM_30_2.0': 'bbm', 'BBU_30_2.0': 'bbh', 'RSI_14': 'rsi'\n",
    "    }, inplace=True)\n",
    "\n",
    "    # Calculate Bollinger Bands Width\n",
    "    df['bb_width'] = (df['bbh'] - df['bbl']) / df['bbm']\n",
    "    df = apply_total_signal(df=df, rsi_threshold_low=30, rsi_threshold_high=70, bb_width_threshold=0.001)\n",
    "    temp = df.tail(1)\n",
    "    return np.array(temp['TotalSignal'])[0]"
   ]
  },
  {
   "cell_type": "code",
   "execution_count": 47,
   "id": "4f59b0e6-959f-40dd-a738-29017e52b321",
   "metadata": {},
   "outputs": [
    {
     "name": "stdout",
     "output_type": "stream",
     "text": [
      "[*********************100%***********************]  1 of 1 completed\n"
     ]
    },
    {
     "data": {
      "text/plain": [
       "0"
      ]
     },
     "execution_count": 47,
     "metadata": {},
     "output_type": "execute_result"
    }
   ],
   "source": [
    "appTechnicalIndicatorBased('AMZN')"
   ]
  },
  {
   "cell_type": "code",
   "execution_count": 48,
   "id": "6f2ed721-ad33-4907-aa6d-dc3d6e2291c8",
   "metadata": {},
   "outputs": [],
   "source": [
    "###Done Trend Based Indicator #####"
   ]
  },
  {
   "cell_type": "code",
   "execution_count": 119,
   "id": "e3eed774-564b-43c0-bc08-3bb4719a1859",
   "metadata": {},
   "outputs": [],
   "source": [
    "####For ML and DL model data order\n",
    "#RSI\tMACDh_12_26_9\tCCI_14_0.015\tSTOCHk_10_3_3\tSUPERTd_7_3.0\tADX_14\tEMA_50_slope\tEMA_20_slope\t\n",
    "#BBL_20_2.0_slope\tBBU_20_2.0_slope\tDCL_20_20_slope\tDCU_20_20_slope\n",
    "import pandas_ta as ta"
   ]
  },
  {
   "cell_type": "code",
   "execution_count": 120,
   "id": "0bcc7046-38b7-4d54-ac16-e2d711952e20",
   "metadata": {},
   "outputs": [],
   "source": [
    "def calculateIndicator(stock):\n",
    "    stock['EMA_50']=ta.ema(stock.Close, length=50)#sma ema\n",
    "    stock['EMA_20']=ta.ema(stock.Close, length=20)#sma ema\n",
    "    stock['RSI']=ta.rsi(stock.Close, length=14)\n",
    "    my_bbands = ta.bbands(stock.Close, length=20, std=2)\n",
    "    stock=stock.join(my_bbands)\n",
    "    temp = ta.macd(stock.Close)\n",
    "    stock=stock.join(temp)\n",
    "    stock.drop(columns = ['MACD_12_26_9','MACDs_12_26_9','BBP_20_2.0','BBB_20_2.0','BBM_20_2.0'],inplace = True)\n",
    "    temp = ta.cci(stock.High,stock.Low,stock.Close)\n",
    "    stock=stock.join(temp)\n",
    "    temp = ta.stoch(stock.High,stock.Low,stock.Close,k=10)\n",
    "    stock=stock.join(temp)\n",
    "    stock.drop(columns = ['STOCHd_10_3_3'],inplace = True)\n",
    "    temp = ta.supertrend(stock.High,stock.Low,stock.Close)\n",
    "    stock=stock.join(temp)\n",
    "    stock.drop(columns = ['SUPERTl_7_3.0','SUPERTs_7_3.0'],inplace = True)\n",
    "    temp = ta.donchian(stock.High,stock.Low)\n",
    "    stock=stock.join(temp)\n",
    "    stock.drop(columns = ['DCM_20_20'],inplace = True)\n",
    "    temp = ta.adx(stock.High,stock.Low,stock.Close)\n",
    "    stock=stock.join(temp)\n",
    "    stock.drop(columns = ['DMP_14','DMN_14'],inplace = True)\n",
    "    temp = ta.slope(stock.EMA_50)\n",
    "    stock=stock.join(temp)\n",
    "    stock.rename(columns = {'SLOPE_1' : 'EMA_50_slope'},inplace = True)\n",
    "    temp = ta.slope(stock.EMA_20)\n",
    "    stock=stock.join(temp)\n",
    "    stock.rename(columns = {'SLOPE_1' : 'EMA_20_slope'}, inplace = True)\n",
    "    temp = ta.slope(stock['BBL_20_2.0'])\n",
    "    stock = stock.join(temp)\n",
    "    stock.rename(columns = {'SLOPE_1' : 'BBL_20_2.0_slope'}, inplace = True)\n",
    "    temp = ta.slope(stock['BBU_20_2.0'])\n",
    "    stock = stock.join(temp)\n",
    "    stock.rename(columns = {'SLOPE_1' : 'BBU_20_2.0_slope'}, inplace = True)\n",
    "    temp = ta.slope(stock.DCL_20_20)\n",
    "    stock=stock.join(temp)\n",
    "    stock.rename(columns = {'SLOPE_1' : 'DCL_20_20_slope'},inplace = True)\n",
    "    temp = ta.slope(stock.DCU_20_20)\n",
    "    stock=stock.join(temp)\n",
    "    stock.rename(columns = {'SLOPE_1' : 'DCU_20_20_slope'},inplace = True)    \n",
    "    stock.drop(columns = ['EMA_50','EMA_20','DCL_20_20','DCU_20_20','BBL_20_2.0','BBU_20_2.0'], inplace = True)\n",
    "    stock.drop(columns = ['Open','High','Low','Volume','Close','SUPERT_7_3.0','Adj Close','Datetime'],inplace = True)\n",
    "    return stock"
   ]
  },
  {
   "cell_type": "code",
   "execution_count": 130,
   "id": "d2066e04-22bc-4e4a-8541-de61e48b65eb",
   "metadata": {},
   "outputs": [],
   "source": [
    "def appMLbased(ticker_name):\n",
    "    df = yf.download(ticker_name, interval='5m', period='1mo')\n",
    "    df=df[df.High!=df.Low]\n",
    "    df.reset_index(inplace=True)\n",
    "    data = calculateIndicator(df)\n",
    "    data.dropna(inplace = True)\n",
    "    \n",
    "    scaler = joblib.load(f'Technical Analysis/{ticker_name}/{ticker_name}MinMaxScaler.pkl')\n",
    "    model = joblib.load(f'Technical Analysis/{ticker_name}/{ticker_name}MLmodel.pkl')\n",
    "    pipeline = make_pipeline(scaler, model)\n",
    "    predict = pipeline.predict(data.tail(1))\n",
    "    \n",
    "    return predict[0]"
   ]
  },
  {
   "cell_type": "code",
   "execution_count": null,
   "id": "cbfc8412-b8a4-49a8-984f-73be3267b6ec",
   "metadata": {},
   "outputs": [
    {
     "name": "stdout",
     "output_type": "stream",
     "text": [
      "[*********************100%***********************]  1 of 1 completed"
     ]
    }
   ],
   "source": [
    "ccc = appMLbased('GOOGL')"
   ]
  },
  {
   "cell_type": "code",
   "execution_count": 140,
   "id": "4438511f-7345-4fa3-9c66-1d2446e80294",
   "metadata": {},
   "outputs": [
    {
     "data": {
      "text/plain": [
       "0"
      ]
     },
     "execution_count": 140,
     "metadata": {},
     "output_type": "execute_result"
    }
   ],
   "source": [
    "ccc"
   ]
  },
  {
   "cell_type": "code",
   "execution_count": 123,
   "id": "f5952e6f-6296-44b9-8bb4-bda61d431505",
   "metadata": {},
   "outputs": [
    {
     "name": "stderr",
     "output_type": "stream",
     "text": [
      "C:\\Users\\LENOVO\\AppData\\Local\\Programs\\Python\\Python311\\Lib\\site-packages\\sklearn\\base.py:347: InconsistentVersionWarning: Trying to unpickle estimator MinMaxScaler from version 1.5.0 when using version 1.3.0. This might lead to breaking code or invalid results. Use at your own risk. For more info please refer to:\n",
      "https://scikit-learn.org/stable/model_persistence.html#security-maintainability-limitations\n",
      "  warnings.warn(\n",
      "C:\\Users\\LENOVO\\AppData\\Local\\Programs\\Python\\Python311\\Lib\\site-packages\\sklearn\\base.py:347: InconsistentVersionWarning: Trying to unpickle estimator SVC from version 1.5.0 when using version 1.3.0. This might lead to breaking code or invalid results. Use at your own risk. For more info please refer to:\n",
      "https://scikit-learn.org/stable/model_persistence.html#security-maintainability-limitations\n",
      "  warnings.warn(\n"
     ]
    }
   ],
   "source": [
    "x = 'ACN'\n",
    "scaler = joblib.load(f'Technical Analysis/{x}/{x}MinMaxScaler.pkl')\n",
    "model = joblib.load(f'Technical Analysis/{x}/{x}MLmodel.pkl')\n",
    "pipeline = make_pipeline(scaler, model)"
   ]
  },
  {
   "cell_type": "code",
   "execution_count": 80,
   "id": "7bd92f4c-f627-4f09-9ede-c495cc35bb69",
   "metadata": {},
   "outputs": [],
   "source": [
    "# loaded_pipeline = joblib.load(f'Technical Analysis/{x}/{x}MinMaxScaler.pkl')"
   ]
  },
  {
   "cell_type": "code",
   "execution_count": 124,
   "id": "d8be2eee-f14c-4a9f-b7ab-7c40951270f1",
   "metadata": {},
   "outputs": [],
   "source": [
    "predict = pipeline.predict(ccc)"
   ]
  },
  {
   "cell_type": "code",
   "execution_count": 126,
   "id": "c7d06173-5c45-430c-a99f-71185f20c1df",
   "metadata": {},
   "outputs": [
    {
     "data": {
      "text/plain": [
       "859"
      ]
     },
     "execution_count": 126,
     "metadata": {},
     "output_type": "execute_result"
    }
   ],
   "source": [
    "np.count_nonzero(predict == 1)"
   ]
  },
  {
   "cell_type": "code",
   "execution_count": 82,
   "id": "c0201646-6d75-467a-8ff4-9ad8defcaf79",
   "metadata": {},
   "outputs": [],
   "source": [
    "###Currently Not working Moving Forword"
   ]
  },
  {
   "cell_type": "code",
   "execution_count": 91,
   "id": "6495ab28-ce14-4490-82ac-389c2a7517ea",
   "metadata": {},
   "outputs": [
    {
     "data": {
      "text/html": [
       "<div>\n",
       "<style scoped>\n",
       "    .dataframe tbody tr th:only-of-type {\n",
       "        vertical-align: middle;\n",
       "    }\n",
       "\n",
       "    .dataframe tbody tr th {\n",
       "        vertical-align: top;\n",
       "    }\n",
       "\n",
       "    .dataframe thead th {\n",
       "        text-align: right;\n",
       "    }\n",
       "</style>\n",
       "<table border=\"1\" class=\"dataframe\">\n",
       "  <thead>\n",
       "    <tr style=\"text-align: right;\">\n",
       "      <th></th>\n",
       "      <th>RSI</th>\n",
       "      <th>MACDh_12_26_9</th>\n",
       "      <th>CCI_14_0.015</th>\n",
       "      <th>STOCHk_10_3_3</th>\n",
       "      <th>SUPERTd_7_3.0</th>\n",
       "      <th>ADX_14</th>\n",
       "      <th>EMA_50_slope</th>\n",
       "      <th>EMA_20_slope</th>\n",
       "      <th>BBL_20_2.0_slope</th>\n",
       "      <th>BBU_20_2.0_slope</th>\n",
       "      <th>DCL_20_20_slope</th>\n",
       "      <th>DCU_20_20_slope</th>\n",
       "    </tr>\n",
       "  </thead>\n",
       "  <tbody>\n",
       "    <tr>\n",
       "      <th>50</th>\n",
       "      <td>61.562599</td>\n",
       "      <td>-0.120807</td>\n",
       "      <td>-5.174451</td>\n",
       "      <td>33.528507</td>\n",
       "      <td>1</td>\n",
       "      <td>57.134384</td>\n",
       "      <td>0.080113</td>\n",
       "      <td>0.041872</td>\n",
       "      <td>0.437256</td>\n",
       "      <td>-0.249256</td>\n",
       "      <td>0.290009</td>\n",
       "      <td>0.000000</td>\n",
       "    </tr>\n",
       "    <tr>\n",
       "      <th>51</th>\n",
       "      <td>57.580008</td>\n",
       "      <td>-0.138708</td>\n",
       "      <td>-145.436182</td>\n",
       "      <td>21.705701</td>\n",
       "      <td>1</td>\n",
       "      <td>55.328135</td>\n",
       "      <td>0.069128</td>\n",
       "      <td>0.018836</td>\n",
       "      <td>0.406799</td>\n",
       "      <td>-0.284799</td>\n",
       "      <td>0.389984</td>\n",
       "      <td>0.000000</td>\n",
       "    </tr>\n",
       "    <tr>\n",
       "      <th>52</th>\n",
       "      <td>64.085325</td>\n",
       "      <td>-0.115614</td>\n",
       "      <td>59.922970</td>\n",
       "      <td>37.209605</td>\n",
       "      <td>1</td>\n",
       "      <td>54.276881</td>\n",
       "      <td>0.086810</td>\n",
       "      <td>0.066568</td>\n",
       "      <td>0.007213</td>\n",
       "      <td>0.049287</td>\n",
       "      <td>0.780029</td>\n",
       "      <td>0.000000</td>\n",
       "    </tr>\n",
       "    <tr>\n",
       "      <th>53</th>\n",
       "      <td>62.691479</td>\n",
       "      <td>-0.105428</td>\n",
       "      <td>122.652965</td>\n",
       "      <td>46.899692</td>\n",
       "      <td>1</td>\n",
       "      <td>53.409611</td>\n",
       "      <td>0.080660</td>\n",
       "      <td>0.053560</td>\n",
       "      <td>0.009597</td>\n",
       "      <td>0.031403</td>\n",
       "      <td>0.000000</td>\n",
       "      <td>0.000000</td>\n",
       "    </tr>\n",
       "    <tr>\n",
       "      <th>54</th>\n",
       "      <td>62.939336</td>\n",
       "      <td>-0.097881</td>\n",
       "      <td>34.405778</td>\n",
       "      <td>65.117104</td>\n",
       "      <td>1</td>\n",
       "      <td>51.359095</td>\n",
       "      <td>0.078281</td>\n",
       "      <td>0.050363</td>\n",
       "      <td>0.052920</td>\n",
       "      <td>0.009580</td>\n",
       "      <td>0.019989</td>\n",
       "      <td>0.000000</td>\n",
       "    </tr>\n",
       "    <tr>\n",
       "      <th>...</th>\n",
       "      <td>...</td>\n",
       "      <td>...</td>\n",
       "      <td>...</td>\n",
       "      <td>...</td>\n",
       "      <td>...</td>\n",
       "      <td>...</td>\n",
       "      <td>...</td>\n",
       "      <td>...</td>\n",
       "      <td>...</td>\n",
       "      <td>...</td>\n",
       "      <td>...</td>\n",
       "      <td>...</td>\n",
       "    </tr>\n",
       "    <tr>\n",
       "      <th>1711</th>\n",
       "      <td>50.592847</td>\n",
       "      <td>0.012395</td>\n",
       "      <td>-6.589811</td>\n",
       "      <td>53.425177</td>\n",
       "      <td>1</td>\n",
       "      <td>15.482875</td>\n",
       "      <td>0.011647</td>\n",
       "      <td>-0.002237</td>\n",
       "      <td>0.000884</td>\n",
       "      <td>0.003117</td>\n",
       "      <td>0.000000</td>\n",
       "      <td>0.000000</td>\n",
       "    </tr>\n",
       "    <tr>\n",
       "      <th>1712</th>\n",
       "      <td>51.057335</td>\n",
       "      <td>0.002038</td>\n",
       "      <td>-58.343689</td>\n",
       "      <td>35.672106</td>\n",
       "      <td>1</td>\n",
       "      <td>14.686798</td>\n",
       "      <td>0.011974</td>\n",
       "      <td>-0.000120</td>\n",
       "      <td>0.022754</td>\n",
       "      <td>0.008246</td>\n",
       "      <td>0.000000</td>\n",
       "      <td>0.000000</td>\n",
       "    </tr>\n",
       "    <tr>\n",
       "      <th>1713</th>\n",
       "      <td>45.730445</td>\n",
       "      <td>-0.019887</td>\n",
       "      <td>-52.608156</td>\n",
       "      <td>23.796302</td>\n",
       "      <td>1</td>\n",
       "      <td>14.865974</td>\n",
       "      <td>0.002486</td>\n",
       "      <td>-0.022012</td>\n",
       "      <td>0.044032</td>\n",
       "      <td>-0.018031</td>\n",
       "      <td>0.000000</td>\n",
       "      <td>0.000000</td>\n",
       "    </tr>\n",
       "    <tr>\n",
       "      <th>1714</th>\n",
       "      <td>44.639611</td>\n",
       "      <td>-0.036384</td>\n",
       "      <td>-86.396450</td>\n",
       "      <td>15.965536</td>\n",
       "      <td>1</td>\n",
       "      <td>14.798927</td>\n",
       "      <td>0.000427</td>\n",
       "      <td>-0.024679</td>\n",
       "      <td>0.031274</td>\n",
       "      <td>-0.014275</td>\n",
       "      <td>0.000000</td>\n",
       "      <td>0.000000</td>\n",
       "    </tr>\n",
       "    <tr>\n",
       "      <th>1715</th>\n",
       "      <td>63.424231</td>\n",
       "      <td>0.018479</td>\n",
       "      <td>166.519553</td>\n",
       "      <td>36.887316</td>\n",
       "      <td>1</td>\n",
       "      <td>15.992312</td>\n",
       "      <td>0.039626</td>\n",
       "      <td>0.072909</td>\n",
       "      <td>-0.017576</td>\n",
       "      <td>0.139576</td>\n",
       "      <td>0.000000</td>\n",
       "      <td>0.274994</td>\n",
       "    </tr>\n",
       "  </tbody>\n",
       "</table>\n",
       "<p>1666 rows × 12 columns</p>\n",
       "</div>"
      ],
      "text/plain": [
       "            RSI  MACDh_12_26_9  CCI_14_0.015  STOCHk_10_3_3  SUPERTd_7_3.0  \\\n",
       "50    61.562599      -0.120807     -5.174451      33.528507              1   \n",
       "51    57.580008      -0.138708   -145.436182      21.705701              1   \n",
       "52    64.085325      -0.115614     59.922970      37.209605              1   \n",
       "53    62.691479      -0.105428    122.652965      46.899692              1   \n",
       "54    62.939336      -0.097881     34.405778      65.117104              1   \n",
       "...         ...            ...           ...            ...            ...   \n",
       "1711  50.592847       0.012395     -6.589811      53.425177              1   \n",
       "1712  51.057335       0.002038    -58.343689      35.672106              1   \n",
       "1713  45.730445      -0.019887    -52.608156      23.796302              1   \n",
       "1714  44.639611      -0.036384    -86.396450      15.965536              1   \n",
       "1715  63.424231       0.018479    166.519553      36.887316              1   \n",
       "\n",
       "         ADX_14  EMA_50_slope  EMA_20_slope  BBL_20_2.0_slope  \\\n",
       "50    57.134384      0.080113      0.041872          0.437256   \n",
       "51    55.328135      0.069128      0.018836          0.406799   \n",
       "52    54.276881      0.086810      0.066568          0.007213   \n",
       "53    53.409611      0.080660      0.053560          0.009597   \n",
       "54    51.359095      0.078281      0.050363          0.052920   \n",
       "...         ...           ...           ...               ...   \n",
       "1711  15.482875      0.011647     -0.002237          0.000884   \n",
       "1712  14.686798      0.011974     -0.000120          0.022754   \n",
       "1713  14.865974      0.002486     -0.022012          0.044032   \n",
       "1714  14.798927      0.000427     -0.024679          0.031274   \n",
       "1715  15.992312      0.039626      0.072909         -0.017576   \n",
       "\n",
       "      BBU_20_2.0_slope  DCL_20_20_slope  DCU_20_20_slope  \n",
       "50           -0.249256         0.290009         0.000000  \n",
       "51           -0.284799         0.389984         0.000000  \n",
       "52            0.049287         0.780029         0.000000  \n",
       "53            0.031403         0.000000         0.000000  \n",
       "54            0.009580         0.019989         0.000000  \n",
       "...                ...              ...              ...  \n",
       "1711          0.003117         0.000000         0.000000  \n",
       "1712          0.008246         0.000000         0.000000  \n",
       "1713         -0.018031         0.000000         0.000000  \n",
       "1714         -0.014275         0.000000         0.000000  \n",
       "1715          0.139576         0.000000         0.274994  \n",
       "\n",
       "[1666 rows x 12 columns]"
      ]
     },
     "execution_count": 91,
     "metadata": {},
     "output_type": "execute_result"
    }
   ],
   "source": [
    "ccc"
   ]
  },
  {
   "cell_type": "code",
   "execution_count": null,
   "id": "5c96fb58-a559-437c-a2d4-03a5a5fee1ca",
   "metadata": {},
   "outputs": [],
   "source": []
  }
 ],
 "metadata": {
  "kernelspec": {
   "display_name": "Python 3 (ipykernel)",
   "language": "python",
   "name": "python3"
  },
  "language_info": {
   "codemirror_mode": {
    "name": "ipython",
    "version": 3
   },
   "file_extension": ".py",
   "mimetype": "text/x-python",
   "name": "python",
   "nbconvert_exporter": "python",
   "pygments_lexer": "ipython3",
   "version": "3.11.4"
  }
 },
 "nbformat": 4,
 "nbformat_minor": 5
}
